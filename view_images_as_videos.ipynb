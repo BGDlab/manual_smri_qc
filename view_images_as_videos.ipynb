{
 "cells": [
  {
   "cell_type": "code",
   "execution_count": null,
   "metadata": {},
   "outputs": [],
   "source": [
    "import numpy as np\n",
    "import os\n",
    "import nibabel\n",
    "from skimage import data\n",
    "import plotly\n",
    "import plotly.express as px"
   ]
  },
  {
   "cell_type": "code",
   "execution_count": null,
   "metadata": {},
   "outputs": [],
   "source": [
    "def showImageCrossSection(fn):\n",
    "    # Load the image\n",
    "    nibImg = nibabel.load(fn)\n",
    "    img = nibImg.get_fdata()\n",
    "    \n",
    "    for i in range(3):\n",
    "        fig = px.imshow(img, color_continuous_scale='gray', \n",
    "                        contrast_rescaling='minmax',\n",
    "                        animation_frame=i, binary_string=True)\n",
    "        fig.update_layout(width=800, height=800)\n",
    "        fig.layout.updatemenus[0].buttons[0].args[1]['frame']['duration'] = 30\n",
    "        fig.layout.updatemenus[0].buttons[0].args[1]['transition']['duration'] = 5\n",
    "        plotly.io.show(fig)\n",
    "    \n",
    "    print(\"Figures should be viewable now\")\n"
   ]
  },
  {
   "cell_type": "markdown",
   "metadata": {},
   "source": [
    "# Interactive Part"
   ]
  },
  {
   "cell_type": "code",
   "execution_count": null,
   "metadata": {
    "scrolled": false
   },
   "outputs": [],
   "source": [
    "fn = \"/Users/youngjm/Data/slip/images/derivatives/mpr_fs_reconall_6.0.0/sub-HM910CW92X/ses-8177age04248/anat/sub-HM910CW92X_ses-8177age04248_acq-MprPrimary3p0UnknownContrastFromScanner35014_run-01_T1w/mri/aseg.mgz\"\n",
    "\n",
    "showImageCrossSection(fn)"
   ]
  },
  {
   "cell_type": "code",
   "execution_count": null,
   "metadata": {},
   "outputs": [],
   "source": []
  }
 ],
 "metadata": {
  "kernelspec": {
   "display_name": "Python 3 (ipykernel)",
   "language": "python",
   "name": "python3"
  },
  "language_info": {
   "codemirror_mode": {
    "name": "ipython",
    "version": 3
   },
   "file_extension": ".py",
   "mimetype": "text/x-python",
   "name": "python",
   "nbconvert_exporter": "python",
   "pygments_lexer": "ipython3",
   "version": "3.9.7"
  }
 },
 "nbformat": 4,
 "nbformat_minor": 4
}
