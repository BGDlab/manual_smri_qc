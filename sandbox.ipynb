{
 "cells": [
  {
   "cell_type": "code",
   "execution_count": 1,
   "metadata": {},
   "outputs": [],
   "source": [
    "import numpy as np\n",
    "import os\n",
    "import nibabel\n",
    "import pandas as pd\n",
    "# from skimage import data\n",
    "# import plotly\n",
    "# import plotly.express as px\n",
    "\n",
    "from runPngGenerator import *\n",
    "import matplotlib.pyplot as plt"
   ]
  },
  {
   "cell_type": "markdown",
   "metadata": {},
   "source": [
    "# Testing alternate png generation "
   ]
  },
  {
   "cell_type": "code",
   "execution_count": 14,
   "metadata": {},
   "outputs": [],
   "source": [
    "inDir = \"/mnt/isilon/bgdlab_processing/Data/SLIP/slip_vsmol/BIDS\"\n",
    "outBase = \"/home/youngjm/Desktop/qc_testing\"\n",
    "\n",
    "demoPath = os.path.join(inDir, \"participants.tsv\")\n",
    "demoDf = pd.read_csv(demoPath, sep=\"\\t\")\n",
    "\n",
    "subIDs = [sub for sub in os.listdir(inDir) if \"sub-\" in sub]\n",
    "\n",
    "for subID in subIDs:\n",
    "    subPath = os.path.join(inDir, subID)\n",
    "    \n",
    "    sesIDs = [ses for ses in os.listdir(subPath) if \"ses-\" in ses]\n",
    "    \n",
    "    for sesID in sesIDs:\n",
    "        sesPath = os.path.join(subPath, sesID)\n",
    "        anatPath = os.path.join(sesPath, \"anat\")\n",
    "        \n",
    "        scans = [scan for scan in os.listdir(anatPath) if \".nii\" in scan and \"MPR\" in scan]\n",
    "        \n",
    "        for scan in scans:\n",
    "            scanID = scan.split(\".nii\")[0]\n",
    "            scanPath = os.path.join(anatPath, scan)\n",
    "            \n",
    "            outDir = os.path.join(outBase, scanID)\n",
    "            if not os.path.exists(outDir):\n",
    "                os.makedirs(outDir)\n",
    "                print(outDir)\n",
    "            "
   ]
  },
  {
   "cell_type": "code",
   "execution_count": 15,
   "metadata": {},
   "outputs": [
    {
     "name": "stdout",
     "output_type": "stream",
     "text": [
      "/home/youngjm/Desktop/qc_testing/sub-HM122EB8H_ses-398783952009procId006443ageDays_acq-MPR_run-001_T1w/sub-HM122EB8H_coronal_slice082.png\n",
      "/home/youngjm/Desktop/qc_testing/sub-HM122EB8H_ses-398783952009procId006443ageDays_acq-MPR_run-001_T1w/sub-HM122EB8H_coronal_slice041.png\n",
      "/home/youngjm/Desktop/qc_testing/sub-HM122EB8H_ses-398783952009procId006443ageDays_acq-MPR_run-001_T1w/sub-HM122EB8H_coronal_slice-08.png\n",
      "PNGs generated for sub-HM122EB8H\n"
     ]
    }
   ],
   "source": [
    "generatePngsSingleScanNibabel(scanPath, subID, outDir)"
   ]
  },
  {
   "cell_type": "code",
   "execution_count": 10,
   "metadata": {},
   "outputs": [
    {
     "name": "stdout",
     "output_type": "stream",
     "text": [
      "~/Desktop/qc_testing/sub-HM122EB8H_ses-398783952009procId006443ageDays_acq-MPR_run-001_T1w/sub-HM122EB8H_coronal_slice097.png\n",
      "~/Desktop/qc_testing/sub-HM122EB8H_ses-398783952009procId006443ageDays_acq-MPR_run-001_T1w/sub-HM122EB8H_coronal_slice041.png\n",
      "~/Desktop/qc_testing/sub-HM122EB8H_ses-398783952009procId006443ageDays_acq-MPR_run-001_T1w/sub-HM122EB8H_coronal_slice-29.png\n"
     ]
    }
   ],
   "source": [
    "from nilearn import plotting\n",
    "from nilearn.image import coord_transform\n",
    "\n",
    "nibImg = nibabel.load(scanPath)\n",
    "img = nibImg.get_fdata()\n",
    "aff = nibImg.affine\n",
    "subject = outDir.split(\"/\")[-1].split(\"_\")[0]\n",
    "outputDir = outDir\n",
    "\n",
    "brainSlices = selectNewSliceCoordinates(img)\n",
    "\n",
    "# y = dim0 in pixel space, dim1 in MNI space\n",
    "for y in brainSlices[0]:\n",
    "    newSlice = coord_transform(y, 0, 0, aff)\n",
    "    # Create the png file name here\n",
    "    newFn = subject+\"_coronal_slice\"+str(int(newSlice[1])).zfill(3)+\".png\"\n",
    "    print(os.path.join(outputDir, newFn))\n",
    "    plotting.plot_anat(nibImg, display_mode=\"y\", cut_coords=[tmp[1]], \n",
    "                       draw_cross = False, output_file=os.path.join(outputDir, newFn))\n",
    "\n",
    "# # z = dim1 in pixel space, dim2 in MNI space\n",
    "# for z in brainSlices[1]:\n",
    "#     tmp = coord_transform(0, z, 0, aff)\n",
    "#     print(tmp)\n",
    "#     plotting.plot_anat(nibImg, display_mode=\"z\", cut_coords=[tmp[2]], draw_cross = False)\n",
    "\n",
    "# # # x = dim2 in pixel space, dim0 in MNI space\n",
    "# for x in brainSlices[2]:\n",
    "#     tmp = coord_transform(0, 0, x, aff)\n",
    "#     print(tmp)\n",
    "#     plotting.plot_anat(nibImg, display_mode=\"x\", cut_coords=[tmp[0]], draw_cross = False)"
   ]
  },
  {
   "cell_type": "code",
   "execution_count": null,
   "metadata": {},
   "outputs": [],
   "source": []
  }
 ],
 "metadata": {
  "kernelspec": {
   "display_name": "Python 3 (ipykernel)",
   "language": "python",
   "name": "python3"
  },
  "language_info": {
   "codemirror_mode": {
    "name": "ipython",
    "version": 3
   },
   "file_extension": ".py",
   "mimetype": "text/x-python",
   "name": "python",
   "nbconvert_exporter": "python",
   "pygments_lexer": "ipython3",
   "version": "3.9.19"
  }
 },
 "nbformat": 4,
 "nbformat_minor": 4
}
