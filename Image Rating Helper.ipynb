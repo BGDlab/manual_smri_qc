{
 "cells": [
  {
   "cell_type": "markdown",
   "metadata": {},
   "source": [
    "# Only modify the next cell"
   ]
  },
  {
   "cell_type": "code",
   "execution_count": 1,
   "metadata": {},
   "outputs": [],
   "source": [
    "# Full path to the .csv file containing the narratives\n",
    "fn = \"/Users/youngjm/Data/2021-12_mpr_analysis_primary_df_clip_22q.csv\""
   ]
  },
  {
   "cell_type": "markdown",
   "metadata": {},
   "source": [
    "# Don't modify this bit"
   ]
  },
  {
   "cell_type": "code",
   "execution_count": 2,
   "metadata": {},
   "outputs": [],
   "source": [
    "from IPython.display import clear_output\n",
    "import pandas as pd\n",
    "import numpy as np\n",
    "import nibabel\n",
    "import os\n",
    "from skimage import data\n",
    "import plotly\n",
    "import plotly.express as px\n",
    "\n",
    "pd.set_option(\"display.max_rows\", None)\n",
    "pd.set_option(\"display.max_columns\", None)\n",
    "pd.set_option(\"display.max_colwidth\", None)"
   ]
  },
  {
   "cell_type": "code",
   "execution_count": 3,
   "metadata": {},
   "outputs": [],
   "source": [
    "def safelySaveDf(df, fn):\n",
    "    try:\n",
    "        df = df.astype(str)\n",
    "        df.to_csv(fn)\n",
    "        return True\n",
    "    except PermissionError:\n",
    "        print(\"Error: write access to \"+fn+\" denied. Please check that the file is not locked by Datalad.\")\n",
    "        return False"
   ]
  },
  {
   "cell_type": "code",
   "execution_count": 4,
   "metadata": {},
   "outputs": [],
   "source": [
    "def checkForMultipleScans(df, row):\n",
    "    subjId = row['patient_id']\n",
    "    age = row['age_at_scan_days']\n",
    "    \n",
    "    overlap = df[(df['patient_id'] == subjId) & (df['age_at_scan_days'] == age)]\n",
    "    \n",
    "    if overlap.shape[0] == 1:\n",
    "        print(\"Only scan for the subject\")\n",
    "    elif overlap.shape[0] > 1:\n",
    "        print(\"More than one scan for the subject:\", overlap['scan_id'].values)\n",
    "    else:\n",
    "        print(\"ERROR: Somehow this subject selected from the dataframe is not actually in the dataframe\")"
   ]
  },
  {
   "cell_type": "code",
   "execution_count": 5,
   "metadata": {},
   "outputs": [],
   "source": [
    "def showImageCrossSection(fn):\n",
    "    # Load the image\n",
    "    nibImg = nibabel.load(fn)\n",
    "    img = nibImg.get_fdata()\n",
    "    \n",
    "    for i in range(3):\n",
    "        fig = px.imshow(img, color_continuous_scale='gray', \n",
    "                        #contrast_rescaling='minmax', \n",
    "                        zmin=120, zmax=580, origin='lower',\n",
    "                        animation_frame=i, binary_string=True)\n",
    "        fig.update_layout(width=800, height=800)\n",
    "        fig.layout.updatemenus[0].buttons[0].args[1]['frame']['duration'] = 30\n",
    "        fig.layout.updatemenus[0].buttons[0].args[1]['transition']['duration'] = 5\n",
    "        plotly.io.show(fig)\n",
    "    \n",
    "    print(\"Figures should be viewable now\")\n"
   ]
  },
  {
   "cell_type": "code",
   "execution_count": 6,
   "metadata": {},
   "outputs": [],
   "source": [
    "##\n",
    "# \n",
    "# @param df A pandas.DataFrame object\n",
    "def gradeImages(df, fn):\n",
    "    \n",
    "    rateCounter = 0\n",
    "    \n",
    "    for idx, row in df.iterrows():\n",
    "        \n",
    "        if pd.isnull(row['rawdata_image_grade']):\n",
    "            \n",
    "            if rateCounter % 50 == 0 and rateCounter != 0:\n",
    "                print(\"Whoa, that's \"+str(rateCounter)+\" images. Go stretch and drink water.\\n\")\n",
    "            elif rateCounter % 10 == 0 and rateCounter != 0:\n",
    "                print(\"Yay, \"+str(rateCounter)+\" images rated!\\n\")\n",
    "                \n",
    "            print(\"Participant Info\")\n",
    "            print(\"Age:\", row['age_at_scan_days'])\n",
    "        \n",
    "            # Need to grab a base directory\n",
    "            if row['Diagnosis'] == 'Control':\n",
    "                baseDir = \"/Users/youngjm/Data/clip/images/rawdata/\"\n",
    "                print(\"Diagnosis: CLIP Control\")\n",
    "            elif row['Diagnosis'] == '22qDS':\n",
    "                baseDir = \"/Users/youngjm/Data/22q11/rawdata/\"\n",
    "                print(\"Diagnosis: 22q11.2 Deletion Syndrome\")\n",
    "                \n",
    "            print('Surface Holes:', row['SurfaceHoles'])\n",
    "            print('Scan ID:', row['scan_id'])\n",
    "            print()\n",
    "            \n",
    "            checkForMultipleScans(df, row)\n",
    "            print()\n",
    "                \n",
    "            \n",
    "\n",
    "            # Then grab the subject, session, etc from the 'scan_id' column\n",
    "            subj = row['patient_id']\n",
    "            ses = row['scan_id'].split(\"_\")[1]\n",
    "            scan = row['scan_id'].replace(\"MPR\", \"Mpr\").replace(\"HighRes\",\"\")\n",
    "            fnToLoad = baseDir+subj+\"/\"+ses+\"/anat/\"+scan+\".nii.gz\"\n",
    "\n",
    "            # Check that the image exists; if not, exit gracefully\n",
    "            if not os.path.exists(fnToLoad):\n",
    "                print(\"Noooo :(\", fnToLoad, row['scan_id'])\n",
    "                return df\n",
    "\n",
    "            # A. Load the image\n",
    "            # A. Display the image\n",
    "            showImageCrossSection(fnToLoad)\n",
    "\n",
    "            # B. Ask the user to grade the image\n",
    "            toContinue = False\n",
    "            while not toContinue:\n",
    "                response = input('Grade the image quality on a categorical scale of 2 (good), 1 (borderline), 0 (bad), or -1 (not a precontrast T1w) OR \"save\" or \"exit\"\\n')\n",
    "                # B. Process the user's response\n",
    "                # B. Respond to the user\n",
    "                if response == \"2\":\n",
    "                    reason = input('Optional: add a note')\n",
    "                    toContinue = True\n",
    "                elif response == 'exit':\n",
    "                    return df\n",
    "                elif response == 'save':\n",
    "                    print(\"save!\\n\")\n",
    "                    safelySaveDf(df, fn)\n",
    "                elif response == \"0\" or response == \"1\":\n",
    "                    reason = input('Why is the image rated 0 or 1?\\n')\n",
    "                    toContinue = True\n",
    "                elif response == \"-1\":\n",
    "                    reason = input(\"Please confirm whether the image is postcontrast or not a T1w scan\\n\")\n",
    "                    toContinue = True\n",
    "                elif response == \"skip\":\n",
    "                    print(\"skipping\")\n",
    "                    toContinue = True\n",
    "                    response = \"\"\n",
    "                    reason = \"\"\n",
    "                else:\n",
    "                    response = input('Grade the image quality on a categorical scale of 2 (good), 1 (borderline), 0 (bad), or -1 (not a precontrast T1w) OR \"save\" or \"exit\"\\n')\n",
    "\n",
    "\n",
    "            # Update the data frame\n",
    "            df.loc[idx, 'rawdata_image_grade'] = response\n",
    "            df.loc[idx, 'rawdata_image_grade_reason'] = reason\n",
    "            rateCounter += 1\n",
    "\n",
    "            # Clear the output\n",
    "            clear_output()\n",
    "            \n",
    "\n",
    "    print(\"Finished examining images\")\n",
    "    return df\n",
    "    "
   ]
  },
  {
   "cell_type": "code",
   "execution_count": 19,
   "metadata": {},
   "outputs": [
    {
     "name": "stdout",
     "output_type": "stream",
     "text": [
      "Loaded the dataframe\n",
      "\n",
      "['patient_id', 'age_at_scan_days', 'scan_id', 'sex', 'scanner_id', 'BrainSeg', 'CerebralWhiteMatter', 'TotalGray', 'EstimatedTotalIntraCranialVol', 'SurfaceHoles', 'SubCortGrayVol', 'CSF', 'SumCorticalSurfaceArea', 'SumCorticalThickAvg', 'AvgCorticalThickAvg', 'MagneticFieldStrength', 'Group', 'Diagnosis', 'Processing', 'Has22q', 'rawdata_image_grade', 'rawdata_image_grade_reason']\n",
      "\n",
      "Number of images: 778\n",
      "Number of ungraded images: 29\n"
     ]
    }
   ],
   "source": [
    "# Load the data frame\n",
    "dataDf = pd.read_csv(fn)\n",
    "\n",
    "if 'Unnamed: 0' in list(dataDf):\n",
    "    dataDf = dataDf.drop(columns=['Unnamed: 0'])\n",
    "    \n",
    "if \"rawdata_image_grade\" not in list(dataDf):\n",
    "    dataDf['rawdata_image_grade'] = np.nan\n",
    "    \n",
    "if \"rawdata_image_grade_reason\" not in list(dataDf):\n",
    "    dataDf['rawdata_image_grade_reason'] = np.nan\n",
    "\n",
    "print(\"Loaded the dataframe\")\n",
    "print()\n",
    "print(list(dataDf))\n",
    "print()\n",
    "print(\"Number of images:\", dataDf.shape[0])\n",
    "print(\"Number of ungraded images:\", dataDf[dataDf['rawdata_image_grade'].isnull()].shape[0])"
   ]
  },
  {
   "cell_type": "markdown",
   "metadata": {},
   "source": [
    "# Interactive Part"
   ]
  },
  {
   "cell_type": "code",
   "execution_count": 20,
   "metadata": {
    "scrolled": false
   },
   "outputs": [
    {
     "name": "stdout",
     "output_type": "stream",
     "text": [
      "Finished examining images\n"
     ]
    }
   ],
   "source": [
    "updatedDataDf = gradeImages(dataDf, fn)"
   ]
  },
  {
   "cell_type": "code",
   "execution_count": 21,
   "metadata": {},
   "outputs": [
    {
     "data": {
      "text/plain": [
       "True"
      ]
     },
     "execution_count": 21,
     "metadata": {},
     "output_type": "execute_result"
    }
   ],
   "source": [
    "safelySaveDf(dataDf, fn)"
   ]
  },
  {
   "cell_type": "code",
   "execution_count": 22,
   "metadata": {},
   "outputs": [
    {
     "name": "stdout",
     "output_type": "stream",
     "text": [
      "\n",
      "Good images (rating = 2): 36.63% 285/778.0\n",
      "Ok images (rating = 1): 26.22% 204/778.0\n",
      "Bad images (rating = 0): 21.21% 165/778.0\n",
      "Postcontrast images (rating = -1): 12.21% 95/778.0\n",
      "Ungraded images (rating = Na): 0.0% 0/778.0\n"
     ]
    },
    {
     "data": {
      "text/html": [
       "<div>\n",
       "<style scoped>\n",
       "    .dataframe tbody tr th:only-of-type {\n",
       "        vertical-align: middle;\n",
       "    }\n",
       "\n",
       "    .dataframe tbody tr th {\n",
       "        vertical-align: top;\n",
       "    }\n",
       "\n",
       "    .dataframe thead th {\n",
       "        text-align: right;\n",
       "    }\n",
       "</style>\n",
       "<table border=\"1\" class=\"dataframe\">\n",
       "  <thead>\n",
       "    <tr style=\"text-align: right;\">\n",
       "      <th></th>\n",
       "      <th>patient_id</th>\n",
       "      <th>age_at_scan_days</th>\n",
       "      <th>scan_id</th>\n",
       "      <th>sex</th>\n",
       "      <th>scanner_id</th>\n",
       "      <th>BrainSeg</th>\n",
       "      <th>CerebralWhiteMatter</th>\n",
       "      <th>TotalGray</th>\n",
       "      <th>EstimatedTotalIntraCranialVol</th>\n",
       "      <th>SurfaceHoles</th>\n",
       "      <th>SubCortGrayVol</th>\n",
       "      <th>CSF</th>\n",
       "      <th>SumCorticalSurfaceArea</th>\n",
       "      <th>SumCorticalThickAvg</th>\n",
       "      <th>AvgCorticalThickAvg</th>\n",
       "      <th>MagneticFieldStrength</th>\n",
       "      <th>Group</th>\n",
       "      <th>Diagnosis</th>\n",
       "      <th>Processing</th>\n",
       "      <th>Has22q</th>\n",
       "      <th>rawdata_image_grade</th>\n",
       "      <th>rawdata_image_grade_reason</th>\n",
       "    </tr>\n",
       "  </thead>\n",
       "  <tbody>\n",
       "  </tbody>\n",
       "</table>\n",
       "</div>"
      ],
      "text/plain": [
       "Empty DataFrame\n",
       "Columns: [patient_id, age_at_scan_days, scan_id, sex, scanner_id, BrainSeg, CerebralWhiteMatter, TotalGray, EstimatedTotalIntraCranialVol, SurfaceHoles, SubCortGrayVol, CSF, SumCorticalSurfaceArea, SumCorticalThickAvg, AvgCorticalThickAvg, MagneticFieldStrength, Group, Diagnosis, Processing, Has22q, rawdata_image_grade, rawdata_image_grade_reason]\n",
       "Index: []"
      ]
     },
     "execution_count": 22,
     "metadata": {},
     "output_type": "execute_result"
    }
   ],
   "source": [
    "def getCohortRatingBreakdown(df):\n",
    "    \n",
    "    total = float(df.shape[0])\n",
    "    ungradedCount = df[df['rawdata_image_grade'].isnull()].shape[0]\n",
    "    goodCount = df[df['rawdata_image_grade'] == 2].shape[0]\n",
    "    okCount = df[df['rawdata_image_grade'] == 1].shape[0]\n",
    "    badCount = df[df['rawdata_image_grade'] == 0].shape[0]\n",
    "    pcCount = df[df['rawdata_image_grade'] == -1].shape[0]\n",
    "\n",
    "    \n",
    "    print()\n",
    "    print('Good images (rating = 2):', str(round(float(goodCount/total)*100, 2))+'%', str(goodCount)+'/'+str(total))\n",
    "    print('Ok images (rating = 1):', str(round(float(okCount/total)*100, 2))+'%', str(okCount)+'/'+str(total))\n",
    "    print('Bad images (rating = 0):', str(round(float(badCount/total)*100, 2))+'%', str(badCount)+'/'+str(total))\n",
    "    print('Postcontrast images (rating = -1):', str(round(float(pcCount/total)*100, 2))+'%', str(pcCount)+'/'+str(total))\n",
    "    print('Ungraded images (rating = Na):', str(round(float(ungradedCount/total)*100, 2))+'%', str(ungradedCount)+'/'+str(total))\n",
    "\n",
    "    \n",
    "getCohortRatingBreakdown(dataDf)\n",
    "\n",
    "dataDf[dataDf['rawdata_image_grade'].isnull()]"
   ]
  },
  {
   "cell_type": "code",
   "execution_count": 24,
   "metadata": {},
   "outputs": [
    {
     "ename": "TypeError",
     "evalue": "'<' not supported between instances of 'str' and 'float'",
     "output_type": "error",
     "traceback": [
      "\u001b[0;31m---------------------------------------------------------------------------\u001b[0m",
      "\u001b[0;31mTypeError\u001b[0m                                 Traceback (most recent call last)",
      "\u001b[0;32m<ipython-input-24-a70836304d8f>\u001b[0m in \u001b[0;36m<module>\u001b[0;34m\u001b[0m\n\u001b[1;32m     36\u001b[0m     \u001b[0mfig\u001b[0m\u001b[0;34m.\u001b[0m\u001b[0mshow\u001b[0m\u001b[0;34m(\u001b[0m\u001b[0;34m)\u001b[0m\u001b[0;34m\u001b[0m\u001b[0;34m\u001b[0m\u001b[0m\n\u001b[1;32m     37\u001b[0m \u001b[0;34m\u001b[0m\u001b[0m\n\u001b[0;32m---> 38\u001b[0;31m \u001b[0msummarizeContinuousOnCategorical\u001b[0m\u001b[0;34m(\u001b[0m\u001b[0mdataDf\u001b[0m\u001b[0;34m,\u001b[0m \u001b[0;34m'age_at_scan_days'\u001b[0m\u001b[0;34m,\u001b[0m \u001b[0;34m'rawdata_image_grade'\u001b[0m\u001b[0;34m)\u001b[0m\u001b[0;34m\u001b[0m\u001b[0;34m\u001b[0m\u001b[0m\n\u001b[0m",
      "\u001b[0;32m<ipython-input-24-a70836304d8f>\u001b[0m in \u001b[0;36msummarizeContinuousOnCategorical\u001b[0;34m(df, contVar, catVar)\u001b[0m\n\u001b[1;32m      5\u001b[0m \u001b[0;32mdef\u001b[0m \u001b[0msummarizeContinuousOnCategorical\u001b[0m\u001b[0;34m(\u001b[0m\u001b[0mdf\u001b[0m\u001b[0;34m,\u001b[0m \u001b[0mcontVar\u001b[0m\u001b[0;34m,\u001b[0m \u001b[0mcatVar\u001b[0m\u001b[0;34m)\u001b[0m\u001b[0;34m:\u001b[0m\u001b[0;34m\u001b[0m\u001b[0;34m\u001b[0m\u001b[0m\n\u001b[1;32m      6\u001b[0m     \u001b[0;31m# For each possible value of the categorical variable\u001b[0m\u001b[0;34m\u001b[0m\u001b[0;34m\u001b[0m\u001b[0m\n\u001b[0;32m----> 7\u001b[0;31m     \u001b[0mvals\u001b[0m \u001b[0;34m=\u001b[0m \u001b[0mnp\u001b[0m\u001b[0;34m.\u001b[0m\u001b[0munique\u001b[0m\u001b[0;34m(\u001b[0m\u001b[0mdf\u001b[0m\u001b[0;34m[\u001b[0m\u001b[0mdf\u001b[0m\u001b[0;34m[\u001b[0m\u001b[0mcatVar\u001b[0m\u001b[0;34m]\u001b[0m\u001b[0;34m.\u001b[0m\u001b[0mnotna\u001b[0m\u001b[0;34m(\u001b[0m\u001b[0;34m)\u001b[0m\u001b[0;34m]\u001b[0m\u001b[0;34m[\u001b[0m\u001b[0mcatVar\u001b[0m\u001b[0;34m]\u001b[0m\u001b[0;34m.\u001b[0m\u001b[0mvalues\u001b[0m\u001b[0;34m)\u001b[0m\u001b[0;34m\u001b[0m\u001b[0;34m\u001b[0m\u001b[0m\n\u001b[0m\u001b[1;32m      8\u001b[0m     \u001b[0mprint\u001b[0m\u001b[0;34m(\u001b[0m\u001b[0mvals\u001b[0m\u001b[0;34m)\u001b[0m\u001b[0;34m\u001b[0m\u001b[0;34m\u001b[0m\u001b[0m\n\u001b[1;32m      9\u001b[0m \u001b[0;34m\u001b[0m\u001b[0m\n",
      "\u001b[0;32m<__array_function__ internals>\u001b[0m in \u001b[0;36munique\u001b[0;34m(*args, **kwargs)\u001b[0m\n",
      "\u001b[0;32m~/opt/miniconda3/lib/python3.9/site-packages/numpy/lib/arraysetops.py\u001b[0m in \u001b[0;36munique\u001b[0;34m(ar, return_index, return_inverse, return_counts, axis)\u001b[0m\n\u001b[1;32m    260\u001b[0m     \u001b[0mar\u001b[0m \u001b[0;34m=\u001b[0m \u001b[0mnp\u001b[0m\u001b[0;34m.\u001b[0m\u001b[0masanyarray\u001b[0m\u001b[0;34m(\u001b[0m\u001b[0mar\u001b[0m\u001b[0;34m)\u001b[0m\u001b[0;34m\u001b[0m\u001b[0;34m\u001b[0m\u001b[0m\n\u001b[1;32m    261\u001b[0m     \u001b[0;32mif\u001b[0m \u001b[0maxis\u001b[0m \u001b[0;32mis\u001b[0m \u001b[0;32mNone\u001b[0m\u001b[0;34m:\u001b[0m\u001b[0;34m\u001b[0m\u001b[0;34m\u001b[0m\u001b[0m\n\u001b[0;32m--> 262\u001b[0;31m         \u001b[0mret\u001b[0m \u001b[0;34m=\u001b[0m \u001b[0m_unique1d\u001b[0m\u001b[0;34m(\u001b[0m\u001b[0mar\u001b[0m\u001b[0;34m,\u001b[0m \u001b[0mreturn_index\u001b[0m\u001b[0;34m,\u001b[0m \u001b[0mreturn_inverse\u001b[0m\u001b[0;34m,\u001b[0m \u001b[0mreturn_counts\u001b[0m\u001b[0;34m)\u001b[0m\u001b[0;34m\u001b[0m\u001b[0;34m\u001b[0m\u001b[0m\n\u001b[0m\u001b[1;32m    263\u001b[0m         \u001b[0;32mreturn\u001b[0m \u001b[0m_unpack_tuple\u001b[0m\u001b[0;34m(\u001b[0m\u001b[0mret\u001b[0m\u001b[0;34m)\u001b[0m\u001b[0;34m\u001b[0m\u001b[0;34m\u001b[0m\u001b[0m\n\u001b[1;32m    264\u001b[0m \u001b[0;34m\u001b[0m\u001b[0m\n",
      "\u001b[0;32m~/opt/miniconda3/lib/python3.9/site-packages/numpy/lib/arraysetops.py\u001b[0m in \u001b[0;36m_unique1d\u001b[0;34m(ar, return_index, return_inverse, return_counts)\u001b[0m\n\u001b[1;32m    321\u001b[0m         \u001b[0maux\u001b[0m \u001b[0;34m=\u001b[0m \u001b[0mar\u001b[0m\u001b[0;34m[\u001b[0m\u001b[0mperm\u001b[0m\u001b[0;34m]\u001b[0m\u001b[0;34m\u001b[0m\u001b[0;34m\u001b[0m\u001b[0m\n\u001b[1;32m    322\u001b[0m     \u001b[0;32melse\u001b[0m\u001b[0;34m:\u001b[0m\u001b[0;34m\u001b[0m\u001b[0;34m\u001b[0m\u001b[0m\n\u001b[0;32m--> 323\u001b[0;31m         \u001b[0mar\u001b[0m\u001b[0;34m.\u001b[0m\u001b[0msort\u001b[0m\u001b[0;34m(\u001b[0m\u001b[0;34m)\u001b[0m\u001b[0;34m\u001b[0m\u001b[0;34m\u001b[0m\u001b[0m\n\u001b[0m\u001b[1;32m    324\u001b[0m         \u001b[0maux\u001b[0m \u001b[0;34m=\u001b[0m \u001b[0mar\u001b[0m\u001b[0;34m\u001b[0m\u001b[0;34m\u001b[0m\u001b[0m\n\u001b[1;32m    325\u001b[0m     \u001b[0mmask\u001b[0m \u001b[0;34m=\u001b[0m \u001b[0mnp\u001b[0m\u001b[0;34m.\u001b[0m\u001b[0mempty\u001b[0m\u001b[0;34m(\u001b[0m\u001b[0maux\u001b[0m\u001b[0;34m.\u001b[0m\u001b[0mshape\u001b[0m\u001b[0;34m,\u001b[0m \u001b[0mdtype\u001b[0m\u001b[0;34m=\u001b[0m\u001b[0mnp\u001b[0m\u001b[0;34m.\u001b[0m\u001b[0mbool_\u001b[0m\u001b[0;34m)\u001b[0m\u001b[0;34m\u001b[0m\u001b[0;34m\u001b[0m\u001b[0m\n",
      "\u001b[0;31mTypeError\u001b[0m: '<' not supported between instances of 'str' and 'float'"
     ]
    }
   ],
   "source": [
    "import numpy as np\n",
    "import matplotlib.pyplot as plt\n",
    "\n",
    "\n",
    "def summarizeContinuousOnCategorical(df, contVar, catVar):\n",
    "    # For each possible value of the categorical variable\n",
    "    vals = np.unique(df[df[catVar].notna()][catVar].values)\n",
    "    print(vals)\n",
    "\n",
    "    # Set up the number of rows and columns for the figure\n",
    "    nCols = 2\n",
    "    nRows = 2 # np.ceil()\n",
    "    count = 0\n",
    "    row = 0\n",
    "    col = 0\n",
    "    \n",
    "    # Set up the figure\n",
    "    fig, axs = plt.subplots(nRows, nCols, figsize=(15, 15))\n",
    "    fig.patch.set_facecolor('w')\n",
    "\n",
    "    for v in vals:\n",
    "        # Get the continuous variable for all data points with the current categorical variable\n",
    "        contVals = list(df[df[catVar] == v][contVar].values)\n",
    "\n",
    "        # Plot the continuous variable\n",
    "        title = \"Histogram of \"+contVar+\"\\n(\"+catVar+\" = \"+str(v)+\")\"\n",
    "        row = int(count / 2)\n",
    "        col = count % 2\n",
    "        print(row, col)\n",
    "\n",
    "        axs[row, col].hist(contVals, bins=20)\n",
    "        axs[row, col].set_title(title)\n",
    "        count += 1\n",
    "\n",
    "    fig.show()\n",
    "    \n",
    "summarizeContinuousOnCategorical(dataDf, 'age_at_scan_days', 'rawdata_image_grade')"
   ]
  },
  {
   "cell_type": "code",
   "execution_count": null,
   "metadata": {},
   "outputs": [],
   "source": []
  }
 ],
 "metadata": {
  "kernelspec": {
   "display_name": "Python 3 (ipykernel)",
   "language": "python",
   "name": "python3"
  },
  "language_info": {
   "codemirror_mode": {
    "name": "ipython",
    "version": 3
   },
   "file_extension": ".py",
   "mimetype": "text/x-python",
   "name": "python",
   "nbconvert_exporter": "python",
   "pygments_lexer": "ipython3",
   "version": "3.9.7"
  }
 },
 "nbformat": 4,
 "nbformat_minor": 4
}
