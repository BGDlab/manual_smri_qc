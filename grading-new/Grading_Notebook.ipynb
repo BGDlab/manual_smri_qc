{
 "cells": [
  {
   "cell_type": "code",
   "execution_count": null,
   "id": "474934cd-6b32-4b75-b10a-3df80c9f5fe5",
   "metadata": {},
   "outputs": [],
   "source": [
    "from imageRatingLib import *"
   ]
  },
  {
   "cell_type": "code",
   "execution_count": null,
   "id": "a5c8e4ff-090f-46c8-a9bf-1149badaf0d4",
   "metadata": {},
   "outputs": [],
   "source": [
    "start_grading()"
   ]
  }
 ],
 "metadata": {
  "kernelspec": {
   "display_name": "Python 3 (ipykernel)",
   "language": "python",
   "name": "python3"
  },
  "language_info": {
   "codemirror_mode": {
    "name": "ipython",
    "version": 3
   },
   "file_extension": ".py",
   "mimetype": "text/x-python",
   "name": "python",
   "nbconvert_exporter": "python",
   "pygments_lexer": "ipython3",
   "version": "3.11.4"
  }
 },
 "nbformat": 4,
 "nbformat_minor": 5
}
