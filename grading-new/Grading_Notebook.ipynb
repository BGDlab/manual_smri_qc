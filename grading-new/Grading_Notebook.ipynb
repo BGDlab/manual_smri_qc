{
 "cells": [
  {
   "cell_type": "code",
   "execution_count": 1,
   "id": "474934cd-6b32-4b75-b10a-3df80c9f5fe5",
   "metadata": {},
   "outputs": [],
   "source": [
    "from imageRatingLib import *"
   ]
  },
  {
   "cell_type": "code",
   "execution_count": 2,
   "id": "70b1a247-f355-4f28-aabd-458dba69dffb",
   "metadata": {},
   "outputs": [
    {
     "name": "stdin",
     "output_type": "stream",
     "text": [
      "Do you want to grade another pending batch? (y/n) :  y\n"
     ]
    }
   ],
   "source": [
    "start_grading()"
   ]
  },
  {
   "cell_type": "code",
   "execution_count": null,
   "id": "cdf1d8dc-99c7-48fe-a69d-f5346c7ec61e",
   "metadata": {},
   "outputs": [],
   "source": []
  }
 ],
 "metadata": {
  "kernelspec": {
   "display_name": ".conda-arcus",
   "language": "python",
   "name": "conda-env-.conda-arcus-py"
  },
  "language_info": {
   "codemirror_mode": {
    "name": "ipython",
    "version": 3
   },
   "file_extension": ".py",
   "mimetype": "text/x-python",
   "name": "python",
   "nbconvert_exporter": "python",
   "pygments_lexer": "ipython3",
   "version": "3.10.13"
  }
 },
 "nbformat": 4,
 "nbformat_minor": 5
}
