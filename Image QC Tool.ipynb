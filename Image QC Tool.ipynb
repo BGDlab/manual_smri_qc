{
 "cells": [
  {
   "cell_type": "code",
   "execution_count": null,
   "metadata": {},
   "outputs": [],
   "source": [
    "# Only modify this variable\n",
    "raterName = \"Jenna Schabdach\""
   ]
  },
  {
   "cell_type": "markdown",
   "metadata": {},
   "source": [
    "### Version Information\n",
    "\n",
    "Last updated 2022-11-07 by @jmschabdach"
   ]
  },
  {
   "cell_type": "code",
   "execution_count": null,
   "metadata": {},
   "outputs": [],
   "source": [
    "%matplotlib inline\n",
    "\n",
    "from IPython.display import display, HTML\n",
    "display(HTML(\"<style>.container { width:100% !important; }</style>\"))\n",
    "\n",
    "from imageRatingLib import *\n",
    "\n",
    "# Set up the batch data frame\n",
    "baseDir = \"/mnt/isilon/bgdlab_resnas03/qc/clip/\"\n",
    "# baseDir = \"/Users/youngjm/Data/clip/images/qc/mpr_fs_6.0.0/\"\n",
    "ratingDfFn = os.path.join(baseDir, raterName.lower().replace(\" \",\"_\")+\"_ratings.csv\")\n",
    "\n",
    "batchOrderFn, nextBatch = getBatchId(raterName, baseDir)\n",
    "print(nextBatch)\n",
    "viewFnsDict = setBatchGrading(baseDir, nextBatch, ratingDfFn, raterName)\n",
    "\n",
    "# Rate all of the pngs in a batch\n",
    "rateBatchOfPngs(ratingDfFn, viewFnsDict, nextBatch, baseDir)\n",
    "\n",
    "# After completing the ratings for a batch\n",
    "markBatchAsComplete(batchOrderFn, nextBatch)\n"
   ]
  },
  {
   "cell_type": "code",
   "execution_count": null,
   "metadata": {},
   "outputs": [],
   "source": [
    "df = pd.read_csv(ratingDfFn)\n",
    "# Check that all of the scans in the ratingDf were indeed graded\n",
    "print(\"If this is the last line printed in black and it's followed by a bunch of red error text, please stop rating and send a screenshot of the full error to Jenna.\")\n",
    "print()\n",
    "if (all(df['rater_grades'].notna())):\n",
    "    print(\"You have finished grading\", df.shape[0], \"image views (\"+str((df.shape[0]/9.0)), \"scans)\")\n",
    "    print(\"This was batch number\", nextBatch.split(\"_\")[-1])\n",
    "    print(\"You have graded all of the images in the following batches:\")\n",
    "    batchIds = [i.split('/')[-1] for i in list(set(df['batch'].values))]\n",
    "    for i in batchIds:\n",
    "        print(i)    \n",
    "else:\n",
    "    print(\"Something is wrong: not all of your grades were saved. Please stop rating and contact Jenna.\")"
   ]
  },
  {
   "cell_type": "code",
   "execution_count": null,
   "metadata": {},
   "outputs": [],
   "source": []
  }
 ],
 "metadata": {
  "kernelspec": {
   "display_name": "Python 3 (ipykernel)",
   "language": "python",
   "name": "python3"
  },
  "language_info": {
   "codemirror_mode": {
    "name": "ipython",
    "version": 3
   },
   "file_extension": ".py",
   "mimetype": "text/x-python",
   "name": "python",
   "nbconvert_exporter": "python",
   "pygments_lexer": "ipython3",
   "version": "3.9.7"
  }
 },
 "nbformat": 4,
 "nbformat_minor": 4
}
