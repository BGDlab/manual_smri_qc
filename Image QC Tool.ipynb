{
 "cells": [
  {
   "cell_type": "code",
   "execution_count": null,
   "metadata": {},
   "outputs": [],
   "source": [
    "# Only modify these two variables\n",
    "batch = \"batch_0000_0001/\"\n",
    "raterName = \"Jenna Schabdach\""
   ]
  },
  {
   "cell_type": "code",
   "execution_count": null,
   "metadata": {},
   "outputs": [],
   "source": [
    "%matplotlib inline\n",
    "\n",
    "import os\n",
    "import pandas as pd\n",
    "import matplotlib.pyplot as plt\n",
    "import numpy as np\n",
    "from IPython.display import clear_output\n",
    "\n",
    "# Set up the batch data frame\n",
    "baseDir = \"/home/drjennay/image_qc_pngs\"\n",
    "# baseDir = \"/Users/youngjm/Data/clip/images/qc/mpr_fs_6.0.0/\"\n",
    "ratingDfFn = os.path.join(baseDir, \"test_ratings.csv\")\n",
    "\n",
    "# List the file names\n",
    "fns = os.listdir(os.path.join(baseDir, batch))\n",
    "subjSesIds = list(set([i.split(\"_dim\")[0] for i in fns]))\n",
    "\n",
    "\n",
    "if os.path.exists(ratingDfFn):\n",
    "    ratingDf = pd.read_csv(ratingDfFn)\n",
    "else:\n",
    "    setup = {\"batch\": [batch for i in range(len(fns))],\n",
    "            \"png_filename\": fns, \n",
    "            \"subject\": [i.split(\"_\")[0] for i in fns], \n",
    "            \"session\": [i.split(\"_\")[1] for i in fns],  \n",
    "            \"rater\": [raterName for i in range(len(fns))], \n",
    "            \"rater_grades\": [\"\" for i in range(len(fns))]}\n",
    "    ratingDf = pd.DataFrame(setup)\n",
    "\n",
    "\n",
    "scanRatingCounter = 1\n",
    "# for each subject\n",
    "for scan in subjSesIds:\n",
    "    # Get the filenames\n",
    "    subjFns = [i for i in fns if scan in i]\n",
    "    # for each png in the scan\n",
    "    for fn in subjFns:\n",
    "        # display progress\n",
    "        print(\"Rating scan \"+str(scanRatingCounter)+\" of \"+str(len(fns)))\n",
    "        # display the file name\n",
    "        print(\"Filename:\", fn)\n",
    "        # load the png\n",
    "        f = os.path.join(os.path.join(baseDir, batch), fn)\n",
    "        img = plt.imread(f)\n",
    "        imsize = (len(img)/20, len(img[0])/20)\n",
    "        print(imsize)\n",
    "        # display the png\n",
    "        plt.figure(figsize=imsize)\n",
    "        plt.imshow(img)\n",
    "        plt.show()\n",
    "        \n",
    "        # ask for a rating\n",
    "        rating = \"\"\n",
    "        while rating not in [0, 1, 2, -1]:\n",
    "            rating = int(input(\"Grade the image on a scale of 0/1/2/-1 (aka poor quality/not sure/good quality/not a precontrast brain image): \"))\n",
    "            \n",
    "        # add the rating to the dataframe\n",
    "        ratingDf.loc[ratingDf['png_filename'] == fn, 'rater_grades'] = rating\n",
    "        scanRatingCounter += 1\n",
    "        # clear the screen\n",
    "        clear_output()\n",
    "    # save the dataframe\n",
    "    ratingDf.to_csv(ratingDfFn, index=False)\n"
   ]
  },
  {
   "cell_type": "code",
   "execution_count": null,
   "metadata": {},
   "outputs": [],
   "source": []
  }
 ],
 "metadata": {
  "kernelspec": {
   "display_name": "Python 3 (ipykernel)",
   "language": "python",
   "name": "python3"
  },
  "language_info": {
   "codemirror_mode": {
    "name": "ipython",
    "version": 3
   },
   "file_extension": ".py",
   "mimetype": "text/x-python",
   "name": "python",
   "nbconvert_exporter": "python",
   "pygments_lexer": "ipython3",
   "version": "3.9.7"
  }
 },
 "nbformat": 4,
 "nbformat_minor": 4
}
