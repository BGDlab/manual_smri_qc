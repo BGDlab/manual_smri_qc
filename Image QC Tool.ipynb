{
 "cells": [
  {
   "cell_type": "code",
   "execution_count": 1,
   "metadata": {},
   "outputs": [],
   "source": [
    "# Only modify these two variables\n",
    "raterName = \"Jenna Schabdach\""
   ]
  },
  {
   "cell_type": "code",
   "execution_count": null,
   "metadata": {},
   "outputs": [],
   "source": [
    "%matplotlib inline\n",
    "\n",
    "from imageRatingLib import *\n",
    "\n",
    "# Set up the batch data frame\n",
    "# baseDir = \"/home/drjennay/image_qc_pngs\"\n",
    "baseDir = \"/Users/youngjm/Data/clip/images/qc/mpr_fs_6.0.0/\"\n",
    "ratingDfFn = os.path.join(baseDir, \"test_ratings.csv\")\n",
    "\n",
    "batchOrderFn, nextBatch = getBatchId(raterName, baseDir)\n",
    "viewFnsDict, ratingDf = setBatchGrading(baseDir, nextBatch, ratingDfFn, raterName)\n",
    "\n",
    "# The scan rating counter = the number of the scan the user is currently rating\n",
    "scanRatingCounter = len(ratingDf[ratingDf['rater_grades'].notna()]['rater_grades'])+1\n",
    "# for each subject\n",
    "for scanView in viewFnsDict:\n",
    "    print(scanView)\n",
    "    # Get the filenames\n",
    "    viewFns = viewFnsDict[scanView]\n",
    "    # display progress\n",
    "    print(\"Rating view \" + str(scanRatingCounter) + \" of \" + str(len(viewFnsDict)) + \" unique views\")\n",
    "    print(\"(FYI age at scan: approximately \" +str(np.round(int(scanView.split(\"age\")[-1].split('_')[0])/365.25, 2))+\" years)\")\n",
    "    \n",
    "    # load all 3 pngs\n",
    "    img0 = plt.imread(os.path.join(os.path.join(baseDir, nextBatch), viewFns[0]))\n",
    "    img1 = plt.imread(os.path.join(os.path.join(baseDir, nextBatch), viewFns[1]))\n",
    "    img2 = plt.imread(os.path.join(os.path.join(baseDir, nextBatch), viewFns[2]))\n",
    "    viewImg = np.concatenate([img0, img1, img2], axis=1)\n",
    "    figsize = (len(viewImg)/10, len(viewImg[0])/20)\n",
    "    \n",
    "    # display the png\n",
    "    plt.figure(figsize=figsize)\n",
    "    plt.imshow(viewImg)\n",
    "    plt.show()\n",
    "\n",
    "    # ask for a rating\n",
    "    rating = \"\"\n",
    "    while rating not in [0, 1, 2, -1]:\n",
    "        rating = int(input(\"Grade the image on a scale of 0/1/2/-1 (aka poor quality/not sure/good quality/not a precontrast brain image): \"))\n",
    "\n",
    "    # add the rating to the dataframe\n",
    "    ratingDf.loc[ratingDf['png_filename'] == viewFns[0], 'rater_grades'] = rating\n",
    "    ratingDf.loc[ratingDf['png_filename'] == viewFns[1], 'rater_grades'] = rating\n",
    "    ratingDf.loc[ratingDf['png_filename'] == viewFns[2], 'rater_grades'] = rating\n",
    "\n",
    "    scanRatingCounter += 1\n",
    "    # clear the screen\n",
    "    clear_output()\n",
    "    # save the dataframe\n",
    "    ratingDf.to_csv(ratingDfFn, index=False)\n",
    "\n",
    "    \n",
    "# After completing the ratings for a batch\n",
    "batchStatusDf.loc[batchStatusDf['batch_id'] == nextBatch, 'batch_rating_complete'] = True\n"
   ]
  },
  {
   "cell_type": "code",
   "execution_count": null,
   "metadata": {},
   "outputs": [],
   "source": []
  },
  {
   "cell_type": "code",
   "execution_count": null,
   "metadata": {},
   "outputs": [],
   "source": []
  }
 ],
 "metadata": {
  "kernelspec": {
   "display_name": "Python 3 (ipykernel)",
   "language": "python",
   "name": "python3"
  },
  "language_info": {
   "codemirror_mode": {
    "name": "ipython",
    "version": 3
   },
   "file_extension": ".py",
   "mimetype": "text/x-python",
   "name": "python",
   "nbconvert_exporter": "python",
   "pygments_lexer": "ipython3",
   "version": "3.9.7"
  }
 },
 "nbformat": 4,
 "nbformat_minor": 4
}
