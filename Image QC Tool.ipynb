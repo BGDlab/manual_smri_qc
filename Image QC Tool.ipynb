{
 "cells": [
  {
   "cell_type": "code",
   "execution_count": 1,
   "metadata": {},
   "outputs": [],
   "source": [
    "# Only modify these two variables\n",
    "raterName = \"Jenna Schabdach\""
   ]
  },
  {
   "cell_type": "code",
   "execution_count": 2,
   "metadata": {},
   "outputs": [],
   "source": [
    "%matplotlib inline\n",
    "\n",
    "from IPython.display import display, HTML\n",
    "display(HTML(\"<style>.container { width:100% !important; }</style>\"))\n",
    "\n",
    "from imageRatingLib import *\n",
    "\n",
    "# Set up the batch data frame\n",
    "baseDir = \"/mnt/isilon/bgdlab_resnas03/qc/clip/\"\n",
    "# baseDir = \"/Users/youngjm/Data/clip/images/qc/mpr_fs_6.0.0/\"\n",
    "ratingDfFn = os.path.join(baseDir, \"test_ratings.csv\")\n",
    "ratingDfFn = os.path.join(baseDir, raterName.lower().replace(\" \",\"_\")+\"_ratings.csv\")\n",
    "\n",
    "batchOrderFn, nextBatch = getBatchId(raterName, baseDir)\n",
    "print(nextBatch)\n",
    "viewFnsDict = setBatchGrading(baseDir, nextBatch, ratingDfFn, raterName)\n",
    "\n",
    "# Rate all of the pngs in a batch\n",
    "rateBatchOfPngs(ratingDfFn, viewFnsDict, nextBatch, baseDir)\n",
    "\n",
    "# After completing the ratings for a batch\n",
    "markBatchAsComplete(batchOrderFn, nextBatch)\n"
   ]
  },
  {
   "cell_type": "code",
   "execution_count": 3,
   "metadata": {},
   "outputs": [
    {
     "data": {
      "text/plain": [
       "(720, 6)"
      ]
     },
     "execution_count": 3,
     "metadata": {},
     "output_type": "execute_result"
    }
   ],
   "source": [
    "df = pd.read_csv(ratingDfFn)\n",
    "print(df.shape)\n"
   ]
  },
  {
   "cell_type": "code",
   "execution_count": null,
   "metadata": {},
   "outputs": [],
   "source": []
  }
 ],
 "metadata": {
  "kernelspec": {
   "display_name": "Python 3 (ipykernel)",
   "language": "python",
   "name": "python3"
  },
  "language_info": {
   "codemirror_mode": {
    "name": "ipython",
    "version": 3
   },
   "file_extension": ".py",
   "mimetype": "text/x-python",
   "name": "python",
   "nbconvert_exporter": "python",
   "pygments_lexer": "ipython3",
   "version": "3.9.7"
  }
 },
 "nbformat": 4,
 "nbformat_minor": 4
}
